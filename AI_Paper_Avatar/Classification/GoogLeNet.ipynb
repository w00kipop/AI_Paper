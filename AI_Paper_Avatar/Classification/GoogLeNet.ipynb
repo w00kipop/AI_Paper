{
 "cells": [
  {
   "cell_type": "code",
   "execution_count": 1,
   "metadata": {},
   "outputs": [
    {
     "name": "stderr",
     "output_type": "stream",
     "text": [
      "/Users/gimtaeyeong/opt/anaconda3/envs/TIL/lib/python3.9/site-packages/tqdm/auto.py:22: TqdmWarning: IProgress not found. Please update jupyter and ipywidgets. See https://ipywidgets.readthedocs.io/en/stable/user_install.html\n",
      "  from .autonotebook import tqdm as notebook_tqdm\n"
     ]
    }
   ],
   "source": [
    "import torch\n",
    "import torch.nn as nn"
   ]
  },
  {
   "cell_type": "code",
   "execution_count": 2,
   "metadata": {},
   "outputs": [],
   "source": [
    "class ConvBlock(nn.Module):\n",
    "\n",
    "\n",
    "    def __init__(self, in_channels, out_channels, **kwargs):\n",
    "        super(ConvBlock, self).__init__()\n",
    "        self.conv_layer = nn.Sequential(\n",
    "            nn.Conv2d(in_channels, out_channels, **kwargs),\n",
    "            nn.BatchNorm2d(out_channels),\n",
    "            nn.ReLU(),\n",
    "        )\n",
    "\n",
    "    \n",
    "    def forward(self, x):\n",
    "\n",
    "        return self.conv_layer(x)"
   ]
  },
  {
   "cell_type": "code",
   "execution_count": 3,
   "metadata": {},
   "outputs": [],
   "source": [
    "class InceptionBlock(nn.Module):\n",
    "\n",
    "\n",
    "    def __init__(self, in_channels, out_channels, red_3x3, out_3x3, red_5x5, out_5x5, out_1x1pool):\n",
    "        super(InceptionBlock, self).__init__()\n",
    "        self.branch_1 = ConvBlock(in_channels, out_channels, kernel_size=1)\n",
    "        self.branch_2 = nn.Sequential(\n",
    "            ConvBlock(in_channels, red_3x3, kernel_size=1),\n",
    "            ConvBlock(red_3x3, out_3x3, kernel_size=3, padding=1),\n",
    "        )\n",
    "        self.branch_3 = nn.Sequential(\n",
    "            ConvBlock(in_channels, red_5x5, kernel_size=1),\n",
    "            ConvBlock(red_5x5, out_5x5, kernel_size=5, padding=2),\n",
    "        )\n",
    "        self.branch_4 = nn.Sequential(\n",
    "            nn.MaxPool2d(kernel_size=3, stride=1, padding=1),\n",
    "            ConvBlock(in_channels, out_1x1pool, kernel_size=1),\n",
    "        )\n",
    "\n",
    "\n",
    "    def forward(self, x):\n",
    "        y = torch.cat([self.branch_1(x), self.branch_2(x), self.branch_3(x), self.branch_4(x)],dim=1)\n",
    "        \n",
    "        return y"
   ]
  },
  {
   "cell_type": "code",
   "execution_count": 4,
   "metadata": {},
   "outputs": [],
   "source": [
    "class Auxiliary_classifier(nn.Module):\n",
    "\n",
    "\n",
    "    def __init__(self, in_channels, num_classes):\n",
    "        super(InceptionBlock, self).__init__()\n",
    "\n",
    "        self.conv_layer = nn.Sequential(\n",
    "            nn.AvgPool2d(kernel_size=5, stride=3),\n",
    "            ConvBlock(in_channels, 128, kernel_size=1),\n",
    "        )\n",
    "        self.fc_layer = nn.Sequential(\n",
    "            nn.Linear(2048, 1024),\n",
    "            nn.ReLU(),\n",
    "            nn.Dropout(),\n",
    "            nn.Linear(1024, num_classes)\n",
    "        )\n",
    "    \n",
    "\n",
    "    def forward(self, x):\n",
    "        y = self.conv_layer(x)\n",
    "        y = y.view(y.shape[0], -1)\n",
    "        y = y.fc_layer(y)\n",
    "\n",
    "        return y"
   ]
  },
  {
   "cell_type": "code",
   "execution_count": 5,
   "metadata": {},
   "outputs": [],
   "source": [
    "class GoogLeNet(nn.Module):\n",
    "\n",
    "\n",
    "    def __init__(self, auxiliary_classifier=True, num_classes=10):\n",
    "        super(GoogLeNet, self).__init__()\n",
    "\n",
    "        assert auxiliary_classifier == True or auxiliary_classifier == False\n",
    "        self.auxiliary_classifier = auxiliary_classifier\n",
    "        self.conv1 = ConvBlock(in_channels=3, out_channels=64, kernel_size=7, stride=2, padding=3)\n",
    "        self.maxpool1 = nn.MaxPool2d(kernel_size=3, stride=2, padding=1)\n",
    "        self.conv2 = ConvBlock(in_channels=64, out_channels=192, kernel_size=3, stride=1, padding=1)\n",
    "        self.maxpool2 = nn.MaxPool2d(kernel_size=3, stride=2, padding=1)\n",
    "        self.inception3a = InceptionBlock(192,64,96,128,16,32,32)\n",
    "        self.inception3b = InceptionBlock(256,128,128,192,32,96,64)\n",
    "        self.maxpool3 = nn.MaxPool2d(kernel_size=3,stride=2,padding=1)\n",
    "        self.inception4a = InceptionBlock(480, 192, 96, 208, 16, 48, 64)\n",
    "        # auxiliary classifier\n",
    "        self.inception4b = InceptionBlock(512, 160, 112, 224, 24, 64, 64)\n",
    "        self.inception4c = InceptionBlock(512, 128, 128, 256, 24, 64, 64)\n",
    "        self.inception4d = InceptionBlock(512, 112, 144, 288, 32, 64, 64)\n",
    "        # auxiliary classifier\n",
    "        self.inception4e = InceptionBlock(528,256,160,320,32,128,128)\n",
    "        self.maxpool4 = nn.MaxPool2d(kernel_size=3,stride=2,padding=1)\n",
    "        self.inception5a = InceptionBlock(832,256,160,320,32,128,128)\n",
    "        self.inception5b = InceptionBlock(832,384,192,384,48,128,128)\n",
    "        self.avgpool = nn.AvgPool2d(kernel_size=7,stride=1)\n",
    "        self.dropout = nn.Dropout(p=0.4)\n",
    "        self.fc1 = nn.Linear(1024,num_classes)\n",
    "        if self.auxiliary_classifier:\n",
    "            self.aux1 = Auxiliary_classifier(512,num_classes)\n",
    "            self.aux2 = Auxiliary_classifier(528,num_classes)\n",
    "        else:\n",
    "            self.aux1 = self.aux2 = None\n",
    "\n",
    "    \n",
    "    def forward(self, x):\n",
    "        y = self.conv1(x)\n",
    "        y = self.maxpool2(x)\n",
    "        y = self.conv2(x)\n",
    "        y = self.maxpool2(x)\n",
    "        y = self.inception3a(x)\n",
    "        y = self.inception3b(x)\n",
    "        y = self.maxpool3(y)\n",
    "        y = self.inception4a(y)\n",
    "\n",
    "        if self.auxiliary_classifier and self.training:\n",
    "            aux1 = self.aux1(y)\n",
    "        y = self.inception4b(y)\n",
    "        y = self.inception4c(y)\n",
    "        y = self.inception4d(y)\n",
    "        if self.auxiliary_classifier and self.training:\n",
    "            aux2 = self.aux2(y)\n",
    "        y = self.inception4e(y)\n",
    "        y = self.maxpool4(y)\n",
    "        y = self.inception5a(y)\n",
    "        y = self.inception5b(y)\n",
    "        y = self.avgpool(y)\n",
    "\n",
    "        y = y.view(y.shape[0],-1)\n",
    "        y = self.dropout(y)\n",
    "        y = self.fc1(y)\n",
    "\n",
    "        if self.auxiliary_classifier and self.training:\n",
    "            return y,aux1,aux2\n",
    "        else:\n",
    "            return y"
   ]
  }
 ],
 "metadata": {
  "interpreter": {
   "hash": "c339b3fd0596d56d4f6ad5db184ec9060621030e6e54b1eb69c5009078292789"
  },
  "kernelspec": {
   "display_name": "Python 3.9.12 ('TIL')",
   "language": "python",
   "name": "python3"
  },
  "language_info": {
   "codemirror_mode": {
    "name": "ipython",
    "version": 3
   },
   "file_extension": ".py",
   "mimetype": "text/x-python",
   "name": "python",
   "nbconvert_exporter": "python",
   "pygments_lexer": "ipython3",
   "version": "3.9.12"
  },
  "orig_nbformat": 4
 },
 "nbformat": 4,
 "nbformat_minor": 2
}
