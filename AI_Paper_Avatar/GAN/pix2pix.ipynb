{
 "cells": [
  {
   "cell_type": "code",
   "execution_count": 1,
   "outputs": [],
   "source": [
    "import torch\n",
    "import torch.nn as nn"
   ],
   "metadata": {
    "collapsed": false,
    "pycharm": {
     "name": "#%%\n"
    }
   }
  },
  {
   "cell_type": "markdown",
   "source": [
    "## Generator(UNet)"
   ],
   "metadata": {
    "collapsed": false,
    "pycharm": {
     "name": "#%% md\n"
    }
   }
  },
  {
   "cell_type": "code",
   "execution_count": 6,
   "outputs": [
    {
     "name": "stdout",
     "output_type": "stream",
     "text": [
      "torch.Size([16, 64, 128, 128])\n"
     ]
    }
   ],
   "source": [
    "class UNetDown(nn.Module):\n",
    "    def __init__(self, in_channels, out_channels, normalize=True, dropout=0.0):\n",
    "        super(UNetDown, self).__init__()\n",
    "\n",
    "        layers = [nn.Conv2d(in_channels, out_channels, 4, stride=2, padding=1, bias=False)]\n",
    "\n",
    "        if normalize:\n",
    "            layers.append(nn.InstanceNorm2d(out_channels)),\n",
    "        layers.append(nn.LeakyReLU(0.2))\n",
    "\n",
    "        if dropout:\n",
    "            layers.append(nn.Dropout(dropout))\n",
    "        self.down = nn.Sequential(*layers)\n",
    "\n",
    "\n",
    "    def forward(self, x):\n",
    "        y = self.down(x)\n",
    "\n",
    "        return y\n",
    "\n",
    "X = torch.randn(16, 3, 256, 256)\n",
    "model = UNetDown(3, 64)\n",
    "down_out = model(X)\n",
    "print(down_out.shape)"
   ],
   "metadata": {
    "collapsed": false,
    "pycharm": {
     "name": "#%%\n"
    }
   }
  },
  {
   "cell_type": "code",
   "execution_count": 7,
   "outputs": [
    {
     "name": "stdout",
     "output_type": "stream",
     "text": [
      "torch.Size([16, 128, 128, 128])\n"
     ]
    }
   ],
   "source": [
    "class UNetUp(nn.Module):\n",
    "    def __init__(self, in_channels, out_channels, dropout=0.0):\n",
    "        super(UNetUp, self).__init__()\n",
    "\n",
    "        layers = [\n",
    "            nn.ConvTranspose2d(in_channels, out_channels, 4, 2, 1, bias=False),\n",
    "            nn.InstanceNorm2d(out_channels),\n",
    "            nn.LeakyReLU()\n",
    "        ]\n",
    "\n",
    "        if dropout:\n",
    "            layers.append(nn.Dropout(dropout))\n",
    "        self.up = nn.Sequential(*layers)\n",
    "\n",
    "\n",
    "    def forward(self, x, skip):\n",
    "        y = self.up(x)\n",
    "        y = torch.cat((y, skip), 1)\n",
    "\n",
    "        return y\n",
    "\n",
    "X = torch.randn(16, 128, 64, 64)\n",
    "model = UNetUp(128, 64)\n",
    "out = model(X, down_out)\n",
    "print(out.shape)"
   ],
   "metadata": {
    "collapsed": false,
    "pycharm": {
     "name": "#%%\n"
    }
   }
  },
  {
   "cell_type": "code",
   "execution_count": 12,
   "outputs": [
    {
     "name": "stdout",
     "output_type": "stream",
     "text": [
      "torch.Size([16, 3, 256, 256])\n"
     ]
    }
   ],
   "source": [
    "# Generator 가짜 이미지 생성 모델\n",
    "class GeneratorUNet(nn.Module):\n",
    "    def __init__(self, in_channels=3, out_channels=3):\n",
    "        super(GeneratorUNet, self).__init__()\n",
    "\n",
    "        self.down1 = UNetDown(in_channels, 64, normalize=False)\n",
    "        self.down2 = UNetDown(64, 128)\n",
    "        self.down3 = UNetDown(128, 256)\n",
    "        self.down4 = UNetDown(256, 512, dropout=0.5)\n",
    "        self.down5 = UNetDown(512, 512, dropout=0.5)\n",
    "        self.down6 = UNetDown(512, 512, dropout=0.5)\n",
    "        self.down7 = UNetDown(512, 512, dropout=0.5)\n",
    "        self.down8 = UNetDown(512, 512, normalize=False, dropout=0.5)\n",
    "\n",
    "        self.up1 = UNetUp(512, 512, dropout=0.5)\n",
    "        self.up2 = UNetUp(1024, 512, dropout=0.5)\n",
    "        self.up3 = UNetUp(1024, 512, dropout=0.5)\n",
    "        self.up4 = UNetUp(1024, 512, dropout=0.5)\n",
    "        self.up5 = UNetUp(1024, 256)\n",
    "        self.up6 = UNetUp(512, 128)\n",
    "        self.up7 = UNetUp(256, 64)\n",
    "        self.up8 = nn.Sequential(\n",
    "            nn.ConvTranspose2d(128, 3, 4, stride=2, padding=1),\n",
    "            nn.Tanh()\n",
    "        )\n",
    "\n",
    "\n",
    "    def forward(self, x):\n",
    "        d1 = self.down1(x)\n",
    "        d2 = self.down2(d1)\n",
    "        d3 = self.down3(d2)\n",
    "        d4 = self.down4(d3)\n",
    "        d5 = self.down5(d4)\n",
    "        d6 = self.down6(d5)\n",
    "        d7 = self.down7(d6)\n",
    "        d8 = self.down8(d7)\n",
    "\n",
    "        u1 = self.up1(d8,d7)\n",
    "        u2 = self.up2(u1,d6)\n",
    "        u3 = self.up3(u2,d5)\n",
    "        u4 = self.up4(u3,d4)\n",
    "        u5 = self.up5(u4,d3)\n",
    "        u6 = self.up6(u5,d2)\n",
    "        u7 = self.up7(u6,d1)\n",
    "        u8 = self.up8(u7)\n",
    "\n",
    "        return u8\n",
    "\n",
    "X = torch.randn(16, 3, 256, 256)\n",
    "model = GeneratorUNet()\n",
    "out = model(X)\n",
    "print(out.shape)"
   ],
   "metadata": {
    "collapsed": false,
    "pycharm": {
     "name": "#%%\n"
    }
   }
  },
  {
   "cell_type": "markdown",
   "source": [
    "## Discriminator(UNet)"
   ],
   "metadata": {
    "collapsed": false,
    "pycharm": {
     "name": "#%% md\n"
    }
   }
  },
  {
   "cell_type": "code",
   "execution_count": 18,
   "outputs": [
    {
     "name": "stdout",
     "output_type": "stream",
     "text": [
      "torch.Size([16, 128, 32, 64])\n"
     ]
    }
   ],
   "source": [
    "class Dis_Block(nn.Module):\n",
    "    def __init__(self, in_channels, out_channels, normalize=True):\n",
    "        super(Dis_Block, self).__init__()\n",
    "\n",
    "        layers = [nn.Conv2d(in_channels, out_channels, 3, stride=2, padding=1)]\n",
    "\n",
    "        if normalize:\n",
    "            layers.append(nn.InstanceNorm2d(out_channels))\n",
    "        layers.append(nn.LeakyReLU(0.2))\n",
    "\n",
    "        self.block = nn.Sequential(*layers)\n",
    "\n",
    "\n",
    "    def forward(self, x):\n",
    "        x = self.block(x)\n",
    "\n",
    "        return x\n",
    "\n",
    "X = torch.randn(16, 64, 64, 128)\n",
    "model = Dis_Block(64, 128)\n",
    "out = model(X)\n",
    "print(out.shape)"
   ],
   "metadata": {
    "collapsed": false,
    "pycharm": {
     "name": "#%%\n"
    }
   }
  },
  {
   "cell_type": "code",
   "execution_count": 19,
   "outputs": [
    {
     "name": "stdout",
     "output_type": "stream",
     "text": [
      "torch.Size([16, 1, 16, 16])\n"
     ]
    }
   ],
   "source": [
    "class Discriminator(nn.Module):\n",
    "    def __init__(self, in_channels=3):\n",
    "        super(Discriminator, self).__init__()\n",
    "\n",
    "        self.stage_1 = Dis_Block(in_channels * 2, 64, normalize=False)\n",
    "        self.stage_2 = Dis_Block(64, 128)\n",
    "        self.stage_3 = Dis_Block(128, 256)\n",
    "        self.stage_4 = Dis_Block(256, 512)\n",
    "\n",
    "        self.patch = nn.Conv2d(512, 1, 3, padding=1)\n",
    "\n",
    "\n",
    "    def forward(self, a, b):\n",
    "        x = torch.cat((a, b), 1)\n",
    "        x = self.stage_1(x)\n",
    "        x = self.stage_2(x)\n",
    "        x = self.stage_3(x)\n",
    "        x = self.stage_4(x)\n",
    "        x = self.patch(x)\n",
    "        y = torch.sigmoid(x)\n",
    "\n",
    "        return y\n",
    "\n",
    "X = torch.randn(16, 3, 256, 256)\n",
    "model = Discriminator()\n",
    "out = model(X, X)\n",
    "print(out.shape)"
   ],
   "metadata": {
    "collapsed": false,
    "pycharm": {
     "name": "#%%\n"
    }
   }
  }
 ],
 "metadata": {
  "kernelspec": {
   "display_name": "Python 3",
   "language": "python",
   "name": "python3"
  },
  "language_info": {
   "codemirror_mode": {
    "name": "ipython",
    "version": 2
   },
   "file_extension": ".py",
   "mimetype": "text/x-python",
   "name": "python",
   "nbconvert_exporter": "python",
   "pygments_lexer": "ipython2",
   "version": "2.7.6"
  }
 },
 "nbformat": 4,
 "nbformat_minor": 0
}